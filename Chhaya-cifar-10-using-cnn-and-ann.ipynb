{
 "cells": [
  {
   "cell_type": "markdown",
   "metadata": {
    "id": "_Svuf_H0VdMg"
   },
   "source": [
    "#1.Import the cifar10 dataset from ‘keras.datasets’. Perform all the data preprocessing required."
   ]
  },
  {
   "cell_type": "code",
   "execution_count": 1,
   "metadata": {
    "execution": {
     "iopub.execute_input": "2021-08-27T16:32:03.602361Z",
     "iopub.status.busy": "2021-08-27T16:32:03.601839Z",
     "iopub.status.idle": "2021-08-27T16:32:10.191888Z",
     "shell.execute_reply": "2021-08-27T16:32:10.190742Z",
     "shell.execute_reply.started": "2021-08-27T16:32:03.602276Z"
    },
    "id": "lQOcJyBDSoRQ"
   },
   "outputs": [],
   "source": [
    "from tensorflow import keras\n",
    "from keras.layers import Conv2D\n",
    "from keras.layers import MaxPooling2D\n",
    "from keras.layers import Flatten\n",
    "from keras.layers import Dense\n",
    "import numpy as np\n",
    "from keras.models import Sequential\n",
    "import matplotlib.pyplot as plt"
   ]
  },
  {
   "cell_type": "markdown",
   "metadata": {
    "id": "MB0wzeZIVlcM"
   },
   "source": [
    "**Importing Data**"
   ]
  },
  {
   "cell_type": "code",
   "execution_count": 2,
   "metadata": {
    "execution": {
     "iopub.execute_input": "2021-08-27T16:32:10.193654Z",
     "iopub.status.busy": "2021-08-27T16:32:10.193348Z",
     "iopub.status.idle": "2021-08-27T16:32:10.198096Z",
     "shell.execute_reply": "2021-08-27T16:32:10.196860Z",
     "shell.execute_reply.started": "2021-08-27T16:32:10.193625Z"
    },
    "id": "o9OfDL9ESzc-"
   },
   "outputs": [],
   "source": [
    "cifar=keras.datasets.cifar10"
   ]
  },
  {
   "cell_type": "code",
   "execution_count": 3,
   "metadata": {
    "execution": {
     "iopub.execute_input": "2021-08-27T16:32:10.200957Z",
     "iopub.status.busy": "2021-08-27T16:32:10.200495Z",
     "iopub.status.idle": "2021-08-27T16:32:18.858765Z",
     "shell.execute_reply": "2021-08-27T16:32:18.857760Z",
     "shell.execute_reply.started": "2021-08-27T16:32:10.200914Z"
    },
    "id": "9g5EejBQS2bc",
    "outputId": "afb348fb-3053-4a46-c901-dcbec5d29e93"
   },
   "outputs": [],
   "source": [
    "(X_train,y_train),(X_test,y_test)=cifar.load_data()"
   ]
  },
  {
   "cell_type": "code",
   "execution_count": 4,
   "metadata": {
    "execution": {
     "iopub.execute_input": "2021-08-27T16:32:18.860929Z",
     "iopub.status.busy": "2021-08-27T16:32:18.860521Z",
     "iopub.status.idle": "2021-08-27T16:32:19.074424Z",
     "shell.execute_reply": "2021-08-27T16:32:19.073152Z",
     "shell.execute_reply.started": "2021-08-27T16:32:18.860887Z"
    }
   },
   "outputs": [
    {
     "data": {
      "text/plain": [
       "<matplotlib.image.AxesImage at 0x232a4383460>"
      ]
     },
     "execution_count": 4,
     "metadata": {},
     "output_type": "execute_result"
    },
    {
     "data": {
      "image/png": "[encoded data removed]",
      "text/plain": [
       "<Figure size 640x480 with 1 Axes>"
      ]
     },
     "metadata": {},
     "output_type": "display_data"
    }
   ],
   "source": [
    "#Checking the image in data\n",
    "plt.imshow(X_train[50])"
   ]
  },
  {
   "cell_type": "code",
   "execution_count": 5,
   "metadata": {
    "execution": {
     "iopub.execute_input": "2021-08-27T16:32:19.076312Z",
     "iopub.status.busy": "2021-08-27T16:32:19.075980Z",
     "iopub.status.idle": "2021-08-27T16:32:19.726769Z",
     "shell.execute_reply": "2021-08-27T16:32:19.725827Z",
     "shell.execute_reply.started": "2021-08-27T16:32:19.076282Z"
    },
    "id": "J54K-LrOS_Ds"
   },
   "outputs": [],
   "source": [
    "#normalizing the data\n",
    "X_train=X_train/255.0\n",
    "X_test=X_test/255.0"
   ]
  },
  {
   "cell_type": "code",
   "execution_count": 6,
   "metadata": {
    "execution": {
     "iopub.execute_input": "2021-08-27T16:32:19.729120Z",
     "iopub.status.busy": "2021-08-27T16:32:19.728559Z",
     "iopub.status.idle": "2021-08-27T16:32:19.735934Z",
     "shell.execute_reply": "2021-08-27T16:32:19.734762Z",
     "shell.execute_reply.started": "2021-08-27T16:32:19.729073Z"
    },
    "id": "FU4YNFghTUzn"
   },
   "outputs": [
    {
     "data": {
      "text/plain": [
       "10"
      ]
     },
     "execution_count": 6,
     "metadata": {},
     "output_type": "execute_result"
    }
   ],
   "source": [
    "#getting the number of classes\n",
    "n=len(np.unique(y_train))\n",
    "n"
   ]
  },
  {
   "cell_type": "code",
   "execution_count": 7,
   "metadata": {
    "execution": {
     "iopub.execute_input": "2021-08-27T16:32:19.737400Z",
     "iopub.status.busy": "2021-08-27T16:32:19.737108Z",
     "iopub.status.idle": "2021-08-27T16:32:19.752722Z",
     "shell.execute_reply": "2021-08-27T16:32:19.751497Z",
     "shell.execute_reply.started": "2021-08-27T16:32:19.737373Z"
    },
    "id": "MUBCwezbTFkT"
   },
   "outputs": [],
   "source": [
    "#converting the dependent variable to categorical as there are 10 classes\n",
    "from keras.utils.np_utils import to_categorical\n",
    "\n",
    "#converting the dependent variable into categorical because we will use crossentropy as the loss function\n",
    "y_train=to_categorical(y_train,n)\n",
    "y_test=to_categorical(y_test,n)"
   ]
  },
  {
   "cell_type": "markdown",
   "metadata": {
    "id": "yC3YugU9V1L4"
   },
   "source": [
    "#2.Build a CNN architecture with Keras and stack an ANN on top of CNN"
   ]
  },
  {
   "cell_type": "code",
   "execution_count": 21,
   "metadata": {
    "execution": {
     "iopub.execute_input": "2021-08-27T16:32:19.755932Z",
     "iopub.status.busy": "2021-08-27T16:32:19.755572Z",
     "iopub.status.idle": "2021-08-27T16:32:19.933625Z",
     "shell.execute_reply": "2021-08-27T16:32:19.932611Z",
     "shell.execute_reply.started": "2021-08-27T16:32:19.755899Z"
    },
    "id": "vQ0-_jOFTnHA"
   },
   "outputs": [],
   "source": [
    "#building model\n",
    "model=Sequential()\n",
    "\n",
    "#Building CNN model\n",
    "#First Convolutional layer will have input shape of the data\n",
    "#In rest of the layers it will take the input shape itself depending upon the output of the neurons\n",
    "model.add(Conv2D(filters=32,kernel_size=3,activation='relu',padding='valid',input_shape=(32,32,3)))\n",
    "model.add(MaxPooling2D(pool_size=2,strides=2))\n",
    "model.add(Conv2D(filters=64,kernel_size=3,activation='relu',padding='valid'))\n",
    "model.add(MaxPooling2D(pool_size=2,strides=2))\n",
    "\n",
    "#Flattening the feature map to give an input to Dense layer\n",
    "model.add(Flatten())\n",
    "\n",
    "#Building ANN \n",
    "model.add(Dense(units=32,activation='relu'))\n",
    "model.add(Dense(units=64,activation='relu'))\n",
    "model.add(Dense(units=128,activation='relu')) \n",
    "model.add(Dense(units=64,activation='relu'))\n",
    "model.add(Dense(units=32,activation='relu'))\n",
    "\n",
    "#Adding the final layer to distinguish the photo into one of the class\n",
    "model.add(Dense(units=10,activation='softmax'))"
   ]
  },
  {
   "cell_type": "code",
   "execution_count": 22,
   "metadata": {
    "execution": {
     "iopub.execute_input": "2021-08-27T16:32:19.935435Z",
     "iopub.status.busy": "2021-08-27T16:32:19.935113Z",
     "iopub.status.idle": "2021-08-27T16:32:19.952119Z",
     "shell.execute_reply": "2021-08-27T16:32:19.951132Z",
     "shell.execute_reply.started": "2021-08-27T16:32:19.935404Z"
    },
    "id": "W5A2A6gmU4zQ"
   },
   "outputs": [],
   "source": [
    "#compiling the model\n",
    "model.compile(optimizer='adam',loss='categorical_crossentropy',metrics=['accuracy'])"
   ]
  },
  {
   "cell_type": "markdown",
   "metadata": {},
   "source": [
    "#3.Fit and evaluate the model. Plot the training and validation curves."
   ]
  },
  {
   "cell_type": "code",
   "execution_count": 23,
   "metadata": {
    "execution": {
     "iopub.execute_input": "2021-08-27T16:32:19.953897Z",
     "iopub.status.busy": "2021-08-27T16:32:19.953441Z",
     "iopub.status.idle": "2021-08-27T16:40:07.390259Z",
     "shell.execute_reply": "2021-08-27T16:40:07.389500Z",
     "shell.execute_reply.started": "2021-08-27T16:32:19.953866Z"
    },
    "id": "uHE8YJYCVLkS",
    "outputId": "6a0a350d-8a8e-4a7f-a9bc-6cce09d2c53b"
   },
   "outputs": [
    {
     "name": "stdout",
     "output_type": "stream",
     "text": [
      "Epoch 1/20\n",
      "625/625 - 22s - loss: 1.8142 - accuracy: 0.3094 - val_loss: 1.5732 - val_accuracy: 0.4221 - 22s/epoch - 35ms/step\n",
      "Epoch 2/20\n",
      "625/625 - 19s - loss: 1.4030 - accuracy: 0.4794 - val_loss: 1.3618 - val_accuracy: 0.5089 - 19s/epoch - 30ms/step\n",
      "Epoch 3/20\n",
      "625/625 - 18s - loss: 1.2346 - accuracy: 0.5486 - val_loss: 1.1909 - val_accuracy: 0.5661 - 18s/epoch - 29ms/step\n",
      "Epoch 4/20\n",
      "625/625 - 18s - loss: 1.1333 - accuracy: 0.5908 - val_loss: 1.1516 - val_accuracy: 0.5841 - 18s/epoch - 29ms/step\n",
      "Epoch 5/20\n",
      "625/625 - 19s - loss: 1.0706 - accuracy: 0.6148 - val_loss: 1.0927 - val_accuracy: 0.6122 - 19s/epoch - 30ms/step\n",
      "Epoch 6/20\n",
      "625/625 - 18s - loss: 1.0098 - accuracy: 0.6398 - val_loss: 1.0242 - val_accuracy: 0.6368 - 18s/epoch - 30ms/step\n",
      "Epoch 7/20\n",
      "625/625 - 19s - loss: 0.9652 - accuracy: 0.6550 - val_loss: 1.0161 - val_accuracy: 0.6436 - 19s/epoch - 30ms/step\n",
      "Epoch 8/20\n",
      "625/625 - 18s - loss: 0.9267 - accuracy: 0.6735 - val_loss: 1.0297 - val_accuracy: 0.6377 - 18s/epoch - 29ms/step\n",
      "Epoch 9/20\n",
      "625/625 - 18s - loss: 0.8900 - accuracy: 0.6855 - val_loss: 0.9946 - val_accuracy: 0.6450 - 18s/epoch - 29ms/step\n",
      "Epoch 10/20\n",
      "625/625 - 18s - loss: 0.8635 - accuracy: 0.6961 - val_loss: 1.0112 - val_accuracy: 0.6487 - 18s/epoch - 29ms/step\n",
      "Epoch 11/20\n",
      "625/625 - 18s - loss: 0.8313 - accuracy: 0.7045 - val_loss: 1.0081 - val_accuracy: 0.6545 - 18s/epoch - 29ms/step\n",
      "Epoch 12/20\n",
      "625/625 - 18s - loss: 0.8176 - accuracy: 0.7121 - val_loss: 0.9874 - val_accuracy: 0.6569 - 18s/epoch - 29ms/step\n",
      "Epoch 13/20\n",
      "625/625 - 18s - loss: 0.7925 - accuracy: 0.7222 - val_loss: 1.0143 - val_accuracy: 0.6581 - 18s/epoch - 28ms/step\n",
      "Epoch 14/20\n",
      "625/625 - 18s - loss: 0.7720 - accuracy: 0.7307 - val_loss: 0.9856 - val_accuracy: 0.6593 - 18s/epoch - 29ms/step\n",
      "Epoch 15/20\n",
      "625/625 - 18s - loss: 0.7552 - accuracy: 0.7366 - val_loss: 0.9844 - val_accuracy: 0.6632 - 18s/epoch - 29ms/step\n",
      "Epoch 16/20\n",
      "625/625 - 18s - loss: 0.7355 - accuracy: 0.7438 - val_loss: 0.9565 - val_accuracy: 0.6692 - 18s/epoch - 29ms/step\n",
      "Epoch 17/20\n",
      "625/625 - 18s - loss: 0.7247 - accuracy: 0.7470 - val_loss: 1.0357 - val_accuracy: 0.6570 - 18s/epoch - 29ms/step\n",
      "Epoch 18/20\n",
      "625/625 - 18s - loss: 0.7090 - accuracy: 0.7528 - val_loss: 1.0289 - val_accuracy: 0.6565 - 18s/epoch - 29ms/step\n",
      "Epoch 19/20\n",
      "625/625 - 18s - loss: 0.7012 - accuracy: 0.7549 - val_loss: 1.0086 - val_accuracy: 0.6663 - 18s/epoch - 28ms/step\n",
      "Epoch 20/20\n",
      "625/625 - 18s - loss: 0.6849 - accuracy: 0.7605 - val_loss: 1.0100 - val_accuracy: 0.6682 - 18s/epoch - 29ms/step\n"
     ]
    }
   ],
   "source": [
    "#fitting the model\n",
    "#saving all the parameters into a variable in order to plot them later\n",
    "#Parameter validation split has been given to understand how the model will behave with the real world data\n",
    "answer=model.fit(X_train,y_train,epochs=20,verbose=2,validation_split=0.2,batch_size=64)"
   ]
  },
  {
   "cell_type": "code",
   "execution_count": 24,
   "metadata": {
    "execution": {
     "iopub.execute_input": "2021-08-27T16:40:07.391606Z",
     "iopub.status.busy": "2021-08-27T16:40:07.391319Z",
     "iopub.status.idle": "2021-08-27T16:40:09.886463Z",
     "shell.execute_reply": "2021-08-27T16:40:09.885510Z",
     "shell.execute_reply.started": "2021-08-27T16:40:07.391575Z"
    },
    "id": "UgY2r-MfZzGu",
    "outputId": "c53235c8-c641-463e-a3d2-7be1ae3fae13"
   },
   "outputs": [
    {
     "name": "stdout",
     "output_type": "stream",
     "text": [
      "313/313 [==============================] - 3s 10ms/step - loss: 1.0279 - accuracy: 0.6575\n"
     ]
    },
    {
     "data": {
      "text/plain": [
       "[1.0278998613357544, 0.6575000286102295]"
      ]
     },
     "execution_count": 24,
     "metadata": {},
     "output_type": "execute_result"
    }
   ],
   "source": [
    "#evaluating the model\n",
    "model.evaluate(X_test,y_test)"
   ]
  },
  {
   "cell_type": "code",
   "execution_count": 25,
   "metadata": {
    "execution": {
     "iopub.execute_input": "2021-08-27T16:40:09.889738Z",
     "iopub.status.busy": "2021-08-27T16:40:09.889369Z",
     "iopub.status.idle": "2021-08-27T16:40:09.896348Z",
     "shell.execute_reply": "2021-08-27T16:40:09.895253Z",
     "shell.execute_reply.started": "2021-08-27T16:40:09.889697Z"
    },
    "id": "oyiW5qFPaZTm",
    "outputId": "4be69c24-680d-48a3-ce6c-bdb18b2c9c6d"
   },
   "outputs": [
    {
     "data": {
      "text/plain": [
       "dict_keys(['loss', 'accuracy', 'val_loss', 'val_accuracy'])"
      ]
     },
     "execution_count": 25,
     "metadata": {},
     "output_type": "execute_result"
    }
   ],
   "source": [
    "#checking the parameters saved in answer variable\n",
    "answer.history.keys()"
   ]
  },
  {
   "cell_type": "code",
   "execution_count": 26,
   "metadata": {
    "execution": {
     "iopub.execute_input": "2021-08-27T16:40:09.898341Z",
     "iopub.status.busy": "2021-08-27T16:40:09.897924Z",
     "iopub.status.idle": "2021-08-27T16:40:10.334923Z",
     "shell.execute_reply": "2021-08-27T16:40:10.333792Z",
     "shell.execute_reply.started": "2021-08-27T16:40:09.898295Z"
    },
    "id": "dTEkmttoatVw",
    "outputId": "38e0a611-85b5-43b2-dff0-5499891b581a"
   },
   "outputs": [
    {
     "data": {
      "text/plain": [
       "<matplotlib.legend.Legend at 0x232a1a4dee0>"
      ]
     },
     "execution_count": 26,
     "metadata": {},
     "output_type": "execute_result"
    },
    {
     "data": {
      "image/png": "[encoded data removed]",
      "text/plain": [
       "<Figure size 640x480 with 1 Axes>"
      ]
     },
     "metadata": {},
     "output_type": "display_data"
    }
   ],
   "source": [
    "#plotting the graphs between validation and training loss\n",
    "plt.plot(answer.history['val_loss'],label=['validation loss'])\n",
    "plt.plot(answer.history['loss'],label=['training loss'])\n",
    "plt.legend()"
   ]
  },
  {
   "cell_type": "code",
   "execution_count": 28,
   "metadata": {
    "execution": {
     "iopub.execute_input": "2021-08-27T16:40:10.336882Z",
     "iopub.status.busy": "2021-08-27T16:40:10.336494Z",
     "iopub.status.idle": "2021-08-27T16:40:10.555830Z",
     "shell.execute_reply": "2021-08-27T16:40:10.554708Z",
     "shell.execute_reply.started": "2021-08-27T16:40:10.336849Z"
    },
    "id": "JjnSod5ybjxz",
    "outputId": "303814d4-5691-4869-f59c-292ac11f6334"
   },
   "outputs": [
    {
     "data": {
      "text/plain": [
       "<matplotlib.legend.Legend at 0x232a13d1130>"
      ]
     },
     "execution_count": 28,
     "metadata": {},
     "output_type": "execute_result"
    },
    {
     "data": {
      "image/png": "[encoded data removed]",
      "text/plain": [
       "<Figure size 640x480 with 1 Axes>"
      ]
     },
     "metadata": {},
     "output_type": "display_data"
    }
   ],
   "source": [
    "#plotting the graph between validation and training accuracy\n",
    "plt.plot(answer.history['val_accuracy'],label=['Validation accuracy'])\n",
    "plt.plot(answer.history['accuracy'],label=['training accuracy'])\n",
    "plt.legend()"
   ]
  },
  {
   "cell_type": "markdown",
   "metadata": {},
   "source": [
    "So it can be seen that our model is behaving very well with the training data, but for our test data the accuracy is low and the loss is high."
   ]
  },
  {
   "cell_type": "code",
   "execution_count": null,
   "metadata": {},
   "outputs": [],
   "source": []
  }
 ],
 "metadata": {
  "kernelspec": {
   "display_name": "Python 3 (ipykernel)",
   "language": "python",
   "name": "python3"
  },
  "language_info": {
   "codemirror_mode": {
    "name": "ipython",
    "version": 3
   },
   "file_extension": ".py",
   "mimetype": "text/x-python",
   "name": "python",
   "nbconvert_exporter": "python",
   "pygments_lexer": "ipython3",
   "version": "3.9.13"
  }
 },
 "nbformat": 4,
 "nbformat_minor": 4
}
